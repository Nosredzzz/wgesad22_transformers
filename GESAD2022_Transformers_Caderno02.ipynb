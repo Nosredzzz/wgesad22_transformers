{
  "nbformat": 4,
  "nbformat_minor": 0,
  "metadata": {
    "colab": {
      "name": "GESAD2022-Transformers-Caderno02.ipynb",
      "provenance": [],
      "authorship_tag": "ABX9TyOWeDIR03MW9fu1CpaQhFqo",
      "include_colab_link": true
    },
    "kernelspec": {
      "name": "python3",
      "display_name": "Python 3"
    },
    "language_info": {
      "name": "python"
    },
    "widgets": {
      "application/vnd.jupyter.widget-state+json": {
        "0abe0d1b866a42adb55dcef23d1ad930": {
          "model_module": "@jupyter-widgets/controls",
          "model_name": "HBoxModel",
          "model_module_version": "1.5.0",
          "state": {
            "_dom_classes": [],
            "_model_module": "@jupyter-widgets/controls",
            "_model_module_version": "1.5.0",
            "_model_name": "HBoxModel",
            "_view_count": null,
            "_view_module": "@jupyter-widgets/controls",
            "_view_module_version": "1.5.0",
            "_view_name": "HBoxView",
            "box_style": "",
            "children": [
              "IPY_MODEL_5a95946a5bfd435585cac430d433a80d",
              "IPY_MODEL_52881844f27347e2ae4e8fdbf70851e8",
              "IPY_MODEL_d9b780ad59c44675bc6a5f7e8bdd3948"
            ],
            "layout": "IPY_MODEL_e4f129dedce84371bff10bbafb0092b4"
          }
        },
        "5a95946a5bfd435585cac430d433a80d": {
          "model_module": "@jupyter-widgets/controls",
          "model_name": "HTMLModel",
          "model_module_version": "1.5.0",
          "state": {
            "_dom_classes": [],
            "_model_module": "@jupyter-widgets/controls",
            "_model_module_version": "1.5.0",
            "_model_name": "HTMLModel",
            "_view_count": null,
            "_view_module": "@jupyter-widgets/controls",
            "_view_module_version": "1.5.0",
            "_view_name": "HTMLView",
            "description": "",
            "description_tooltip": null,
            "layout": "IPY_MODEL_38fad69c1a1541c0948feaccda7c556e",
            "placeholder": "​",
            "style": "IPY_MODEL_077e3008f2f243d2b6c2984745ad0f2c",
            "value": "Downloading config.json: 100%"
          }
        },
        "52881844f27347e2ae4e8fdbf70851e8": {
          "model_module": "@jupyter-widgets/controls",
          "model_name": "FloatProgressModel",
          "model_module_version": "1.5.0",
          "state": {
            "_dom_classes": [],
            "_model_module": "@jupyter-widgets/controls",
            "_model_module_version": "1.5.0",
            "_model_name": "FloatProgressModel",
            "_view_count": null,
            "_view_module": "@jupyter-widgets/controls",
            "_view_module_version": "1.5.0",
            "_view_name": "ProgressView",
            "bar_style": "success",
            "description": "",
            "description_tooltip": null,
            "layout": "IPY_MODEL_2363add05cdc4249a871d1632139c9b6",
            "max": 629,
            "min": 0,
            "orientation": "horizontal",
            "style": "IPY_MODEL_7b033086b3e44123973a17201af0d6fc",
            "value": 629
          }
        },
        "d9b780ad59c44675bc6a5f7e8bdd3948": {
          "model_module": "@jupyter-widgets/controls",
          "model_name": "HTMLModel",
          "model_module_version": "1.5.0",
          "state": {
            "_dom_classes": [],
            "_model_module": "@jupyter-widgets/controls",
            "_model_module_version": "1.5.0",
            "_model_name": "HTMLModel",
            "_view_count": null,
            "_view_module": "@jupyter-widgets/controls",
            "_view_module_version": "1.5.0",
            "_view_name": "HTMLView",
            "description": "",
            "description_tooltip": null,
            "layout": "IPY_MODEL_cc974d20564646fbbae46d9cf9e1cff1",
            "placeholder": "​",
            "style": "IPY_MODEL_1f48a4bc74624e8aa692433a74268d42",
            "value": " 629/629 [00:00&lt;00:00, 6.25kB/s]"
          }
        },
        "e4f129dedce84371bff10bbafb0092b4": {
          "model_module": "@jupyter-widgets/base",
          "model_name": "LayoutModel",
          "model_module_version": "1.2.0",
          "state": {
            "_model_module": "@jupyter-widgets/base",
            "_model_module_version": "1.2.0",
            "_model_name": "LayoutModel",
            "_view_count": null,
            "_view_module": "@jupyter-widgets/base",
            "_view_module_version": "1.2.0",
            "_view_name": "LayoutView",
            "align_content": null,
            "align_items": null,
            "align_self": null,
            "border": null,
            "bottom": null,
            "display": null,
            "flex": null,
            "flex_flow": null,
            "grid_area": null,
            "grid_auto_columns": null,
            "grid_auto_flow": null,
            "grid_auto_rows": null,
            "grid_column": null,
            "grid_gap": null,
            "grid_row": null,
            "grid_template_areas": null,
            "grid_template_columns": null,
            "grid_template_rows": null,
            "height": null,
            "justify_content": null,
            "justify_items": null,
            "left": null,
            "margin": null,
            "max_height": null,
            "max_width": null,
            "min_height": null,
            "min_width": null,
            "object_fit": null,
            "object_position": null,
            "order": null,
            "overflow": null,
            "overflow_x": null,
            "overflow_y": null,
            "padding": null,
            "right": null,
            "top": null,
            "visibility": null,
            "width": null
          }
        },
        "38fad69c1a1541c0948feaccda7c556e": {
          "model_module": "@jupyter-widgets/base",
          "model_name": "LayoutModel",
          "model_module_version": "1.2.0",
          "state": {
            "_model_module": "@jupyter-widgets/base",
            "_model_module_version": "1.2.0",
            "_model_name": "LayoutModel",
            "_view_count": null,
            "_view_module": "@jupyter-widgets/base",
            "_view_module_version": "1.2.0",
            "_view_name": "LayoutView",
            "align_content": null,
            "align_items": null,
            "align_self": null,
            "border": null,
            "bottom": null,
            "display": null,
            "flex": null,
            "flex_flow": null,
            "grid_area": null,
            "grid_auto_columns": null,
            "grid_auto_flow": null,
            "grid_auto_rows": null,
            "grid_column": null,
            "grid_gap": null,
            "grid_row": null,
            "grid_template_areas": null,
            "grid_template_columns": null,
            "grid_template_rows": null,
            "height": null,
            "justify_content": null,
            "justify_items": null,
            "left": null,
            "margin": null,
            "max_height": null,
            "max_width": null,
            "min_height": null,
            "min_width": null,
            "object_fit": null,
            "object_position": null,
            "order": null,
            "overflow": null,
            "overflow_x": null,
            "overflow_y": null,
            "padding": null,
            "right": null,
            "top": null,
            "visibility": null,
            "width": null
          }
        },
        "077e3008f2f243d2b6c2984745ad0f2c": {
          "model_module": "@jupyter-widgets/controls",
          "model_name": "DescriptionStyleModel",
          "model_module_version": "1.5.0",
          "state": {
            "_model_module": "@jupyter-widgets/controls",
            "_model_module_version": "1.5.0",
            "_model_name": "DescriptionStyleModel",
            "_view_count": null,
            "_view_module": "@jupyter-widgets/base",
            "_view_module_version": "1.2.0",
            "_view_name": "StyleView",
            "description_width": ""
          }
        },
        "2363add05cdc4249a871d1632139c9b6": {
          "model_module": "@jupyter-widgets/base",
          "model_name": "LayoutModel",
          "model_module_version": "1.2.0",
          "state": {
            "_model_module": "@jupyter-widgets/base",
            "_model_module_version": "1.2.0",
            "_model_name": "LayoutModel",
            "_view_count": null,
            "_view_module": "@jupyter-widgets/base",
            "_view_module_version": "1.2.0",
            "_view_name": "LayoutView",
            "align_content": null,
            "align_items": null,
            "align_self": null,
            "border": null,
            "bottom": null,
            "display": null,
            "flex": null,
            "flex_flow": null,
            "grid_area": null,
            "grid_auto_columns": null,
            "grid_auto_flow": null,
            "grid_auto_rows": null,
            "grid_column": null,
            "grid_gap": null,
            "grid_row": null,
            "grid_template_areas": null,
            "grid_template_columns": null,
            "grid_template_rows": null,
            "height": null,
            "justify_content": null,
            "justify_items": null,
            "left": null,
            "margin": null,
            "max_height": null,
            "max_width": null,
            "min_height": null,
            "min_width": null,
            "object_fit": null,
            "object_position": null,
            "order": null,
            "overflow": null,
            "overflow_x": null,
            "overflow_y": null,
            "padding": null,
            "right": null,
            "top": null,
            "visibility": null,
            "width": null
          }
        },
        "7b033086b3e44123973a17201af0d6fc": {
          "model_module": "@jupyter-widgets/controls",
          "model_name": "ProgressStyleModel",
          "model_module_version": "1.5.0",
          "state": {
            "_model_module": "@jupyter-widgets/controls",
            "_model_module_version": "1.5.0",
            "_model_name": "ProgressStyleModel",
            "_view_count": null,
            "_view_module": "@jupyter-widgets/base",
            "_view_module_version": "1.2.0",
            "_view_name": "StyleView",
            "bar_color": null,
            "description_width": ""
          }
        },
        "cc974d20564646fbbae46d9cf9e1cff1": {
          "model_module": "@jupyter-widgets/base",
          "model_name": "LayoutModel",
          "model_module_version": "1.2.0",
          "state": {
            "_model_module": "@jupyter-widgets/base",
            "_model_module_version": "1.2.0",
            "_model_name": "LayoutModel",
            "_view_count": null,
            "_view_module": "@jupyter-widgets/base",
            "_view_module_version": "1.2.0",
            "_view_name": "LayoutView",
            "align_content": null,
            "align_items": null,
            "align_self": null,
            "border": null,
            "bottom": null,
            "display": null,
            "flex": null,
            "flex_flow": null,
            "grid_area": null,
            "grid_auto_columns": null,
            "grid_auto_flow": null,
            "grid_auto_rows": null,
            "grid_column": null,
            "grid_gap": null,
            "grid_row": null,
            "grid_template_areas": null,
            "grid_template_columns": null,
            "grid_template_rows": null,
            "height": null,
            "justify_content": null,
            "justify_items": null,
            "left": null,
            "margin": null,
            "max_height": null,
            "max_width": null,
            "min_height": null,
            "min_width": null,
            "object_fit": null,
            "object_position": null,
            "order": null,
            "overflow": null,
            "overflow_x": null,
            "overflow_y": null,
            "padding": null,
            "right": null,
            "top": null,
            "visibility": null,
            "width": null
          }
        },
        "1f48a4bc74624e8aa692433a74268d42": {
          "model_module": "@jupyter-widgets/controls",
          "model_name": "DescriptionStyleModel",
          "model_module_version": "1.5.0",
          "state": {
            "_model_module": "@jupyter-widgets/controls",
            "_model_module_version": "1.5.0",
            "_model_name": "DescriptionStyleModel",
            "_view_count": null,
            "_view_module": "@jupyter-widgets/base",
            "_view_module_version": "1.2.0",
            "_view_name": "StyleView",
            "description_width": ""
          }
        },
        "5ad1e343e798495f990b539efe72d517": {
          "model_module": "@jupyter-widgets/controls",
          "model_name": "HBoxModel",
          "model_module_version": "1.5.0",
          "state": {
            "_dom_classes": [],
            "_model_module": "@jupyter-widgets/controls",
            "_model_module_version": "1.5.0",
            "_model_name": "HBoxModel",
            "_view_count": null,
            "_view_module": "@jupyter-widgets/controls",
            "_view_module_version": "1.5.0",
            "_view_name": "HBoxView",
            "box_style": "",
            "children": [
              "IPY_MODEL_b9c878d1110946c293a588b61b89930b",
              "IPY_MODEL_d6d8f75916304f77945fa86e8df72c14",
              "IPY_MODEL_ae827e36987e4edaaf1a9f5dc45d6450"
            ],
            "layout": "IPY_MODEL_0eadb521288347fbab27eced44f47043"
          }
        },
        "b9c878d1110946c293a588b61b89930b": {
          "model_module": "@jupyter-widgets/controls",
          "model_name": "HTMLModel",
          "model_module_version": "1.5.0",
          "state": {
            "_dom_classes": [],
            "_model_module": "@jupyter-widgets/controls",
            "_model_module_version": "1.5.0",
            "_model_name": "HTMLModel",
            "_view_count": null,
            "_view_module": "@jupyter-widgets/controls",
            "_view_module_version": "1.5.0",
            "_view_name": "HTMLView",
            "description": "",
            "description_tooltip": null,
            "layout": "IPY_MODEL_bc7bea1993be4234aa2dfc31cb62eed1",
            "placeholder": "​",
            "style": "IPY_MODEL_0e8b6e4a954d4d2185d4ed6148b8b5e2",
            "value": "Downloading pytorch_model.bin: 100%"
          }
        },
        "d6d8f75916304f77945fa86e8df72c14": {
          "model_module": "@jupyter-widgets/controls",
          "model_name": "FloatProgressModel",
          "model_module_version": "1.5.0",
          "state": {
            "_dom_classes": [],
            "_model_module": "@jupyter-widgets/controls",
            "_model_module_version": "1.5.0",
            "_model_name": "FloatProgressModel",
            "_view_count": null,
            "_view_module": "@jupyter-widgets/controls",
            "_view_module_version": "1.5.0",
            "_view_name": "ProgressView",
            "bar_style": "success",
            "description": "",
            "description_tooltip": null,
            "layout": "IPY_MODEL_5f2bae99c12e42788f36e9061e1e05e1",
            "max": 267844284,
            "min": 0,
            "orientation": "horizontal",
            "style": "IPY_MODEL_1e8ecd6bab8044aabdb9c91ab59ded1d",
            "value": 267844284
          }
        },
        "ae827e36987e4edaaf1a9f5dc45d6450": {
          "model_module": "@jupyter-widgets/controls",
          "model_name": "HTMLModel",
          "model_module_version": "1.5.0",
          "state": {
            "_dom_classes": [],
            "_model_module": "@jupyter-widgets/controls",
            "_model_module_version": "1.5.0",
            "_model_name": "HTMLModel",
            "_view_count": null,
            "_view_module": "@jupyter-widgets/controls",
            "_view_module_version": "1.5.0",
            "_view_name": "HTMLView",
            "description": "",
            "description_tooltip": null,
            "layout": "IPY_MODEL_f7febbb3c9dc4c7aa9570cb969663609",
            "placeholder": "​",
            "style": "IPY_MODEL_3de63e301dfe4399b6e54e88754da47f",
            "value": " 255M/255M [00:10&lt;00:00, 39.2MB/s]"
          }
        },
        "0eadb521288347fbab27eced44f47043": {
          "model_module": "@jupyter-widgets/base",
          "model_name": "LayoutModel",
          "model_module_version": "1.2.0",
          "state": {
            "_model_module": "@jupyter-widgets/base",
            "_model_module_version": "1.2.0",
            "_model_name": "LayoutModel",
            "_view_count": null,
            "_view_module": "@jupyter-widgets/base",
            "_view_module_version": "1.2.0",
            "_view_name": "LayoutView",
            "align_content": null,
            "align_items": null,
            "align_self": null,
            "border": null,
            "bottom": null,
            "display": null,
            "flex": null,
            "flex_flow": null,
            "grid_area": null,
            "grid_auto_columns": null,
            "grid_auto_flow": null,
            "grid_auto_rows": null,
            "grid_column": null,
            "grid_gap": null,
            "grid_row": null,
            "grid_template_areas": null,
            "grid_template_columns": null,
            "grid_template_rows": null,
            "height": null,
            "justify_content": null,
            "justify_items": null,
            "left": null,
            "margin": null,
            "max_height": null,
            "max_width": null,
            "min_height": null,
            "min_width": null,
            "object_fit": null,
            "object_position": null,
            "order": null,
            "overflow": null,
            "overflow_x": null,
            "overflow_y": null,
            "padding": null,
            "right": null,
            "top": null,
            "visibility": null,
            "width": null
          }
        },
        "bc7bea1993be4234aa2dfc31cb62eed1": {
          "model_module": "@jupyter-widgets/base",
          "model_name": "LayoutModel",
          "model_module_version": "1.2.0",
          "state": {
            "_model_module": "@jupyter-widgets/base",
            "_model_module_version": "1.2.0",
            "_model_name": "LayoutModel",
            "_view_count": null,
            "_view_module": "@jupyter-widgets/base",
            "_view_module_version": "1.2.0",
            "_view_name": "LayoutView",
            "align_content": null,
            "align_items": null,
            "align_self": null,
            "border": null,
            "bottom": null,
            "display": null,
            "flex": null,
            "flex_flow": null,
            "grid_area": null,
            "grid_auto_columns": null,
            "grid_auto_flow": null,
            "grid_auto_rows": null,
            "grid_column": null,
            "grid_gap": null,
            "grid_row": null,
            "grid_template_areas": null,
            "grid_template_columns": null,
            "grid_template_rows": null,
            "height": null,
            "justify_content": null,
            "justify_items": null,
            "left": null,
            "margin": null,
            "max_height": null,
            "max_width": null,
            "min_height": null,
            "min_width": null,
            "object_fit": null,
            "object_position": null,
            "order": null,
            "overflow": null,
            "overflow_x": null,
            "overflow_y": null,
            "padding": null,
            "right": null,
            "top": null,
            "visibility": null,
            "width": null
          }
        },
        "0e8b6e4a954d4d2185d4ed6148b8b5e2": {
          "model_module": "@jupyter-widgets/controls",
          "model_name": "DescriptionStyleModel",
          "model_module_version": "1.5.0",
          "state": {
            "_model_module": "@jupyter-widgets/controls",
            "_model_module_version": "1.5.0",
            "_model_name": "DescriptionStyleModel",
            "_view_count": null,
            "_view_module": "@jupyter-widgets/base",
            "_view_module_version": "1.2.0",
            "_view_name": "StyleView",
            "description_width": ""
          }
        },
        "5f2bae99c12e42788f36e9061e1e05e1": {
          "model_module": "@jupyter-widgets/base",
          "model_name": "LayoutModel",
          "model_module_version": "1.2.0",
          "state": {
            "_model_module": "@jupyter-widgets/base",
            "_model_module_version": "1.2.0",
            "_model_name": "LayoutModel",
            "_view_count": null,
            "_view_module": "@jupyter-widgets/base",
            "_view_module_version": "1.2.0",
            "_view_name": "LayoutView",
            "align_content": null,
            "align_items": null,
            "align_self": null,
            "border": null,
            "bottom": null,
            "display": null,
            "flex": null,
            "flex_flow": null,
            "grid_area": null,
            "grid_auto_columns": null,
            "grid_auto_flow": null,
            "grid_auto_rows": null,
            "grid_column": null,
            "grid_gap": null,
            "grid_row": null,
            "grid_template_areas": null,
            "grid_template_columns": null,
            "grid_template_rows": null,
            "height": null,
            "justify_content": null,
            "justify_items": null,
            "left": null,
            "margin": null,
            "max_height": null,
            "max_width": null,
            "min_height": null,
            "min_width": null,
            "object_fit": null,
            "object_position": null,
            "order": null,
            "overflow": null,
            "overflow_x": null,
            "overflow_y": null,
            "padding": null,
            "right": null,
            "top": null,
            "visibility": null,
            "width": null
          }
        },
        "1e8ecd6bab8044aabdb9c91ab59ded1d": {
          "model_module": "@jupyter-widgets/controls",
          "model_name": "ProgressStyleModel",
          "model_module_version": "1.5.0",
          "state": {
            "_model_module": "@jupyter-widgets/controls",
            "_model_module_version": "1.5.0",
            "_model_name": "ProgressStyleModel",
            "_view_count": null,
            "_view_module": "@jupyter-widgets/base",
            "_view_module_version": "1.2.0",
            "_view_name": "StyleView",
            "bar_color": null,
            "description_width": ""
          }
        },
        "f7febbb3c9dc4c7aa9570cb969663609": {
          "model_module": "@jupyter-widgets/base",
          "model_name": "LayoutModel",
          "model_module_version": "1.2.0",
          "state": {
            "_model_module": "@jupyter-widgets/base",
            "_model_module_version": "1.2.0",
            "_model_name": "LayoutModel",
            "_view_count": null,
            "_view_module": "@jupyter-widgets/base",
            "_view_module_version": "1.2.0",
            "_view_name": "LayoutView",
            "align_content": null,
            "align_items": null,
            "align_self": null,
            "border": null,
            "bottom": null,
            "display": null,
            "flex": null,
            "flex_flow": null,
            "grid_area": null,
            "grid_auto_columns": null,
            "grid_auto_flow": null,
            "grid_auto_rows": null,
            "grid_column": null,
            "grid_gap": null,
            "grid_row": null,
            "grid_template_areas": null,
            "grid_template_columns": null,
            "grid_template_rows": null,
            "height": null,
            "justify_content": null,
            "justify_items": null,
            "left": null,
            "margin": null,
            "max_height": null,
            "max_width": null,
            "min_height": null,
            "min_width": null,
            "object_fit": null,
            "object_position": null,
            "order": null,
            "overflow": null,
            "overflow_x": null,
            "overflow_y": null,
            "padding": null,
            "right": null,
            "top": null,
            "visibility": null,
            "width": null
          }
        },
        "3de63e301dfe4399b6e54e88754da47f": {
          "model_module": "@jupyter-widgets/controls",
          "model_name": "DescriptionStyleModel",
          "model_module_version": "1.5.0",
          "state": {
            "_model_module": "@jupyter-widgets/controls",
            "_model_module_version": "1.5.0",
            "_model_name": "DescriptionStyleModel",
            "_view_count": null,
            "_view_module": "@jupyter-widgets/base",
            "_view_module_version": "1.2.0",
            "_view_name": "StyleView",
            "description_width": ""
          }
        },
        "c949f9a94b2c4200b29b7210ca05d77a": {
          "model_module": "@jupyter-widgets/controls",
          "model_name": "HBoxModel",
          "model_module_version": "1.5.0",
          "state": {
            "_dom_classes": [],
            "_model_module": "@jupyter-widgets/controls",
            "_model_module_version": "1.5.0",
            "_model_name": "HBoxModel",
            "_view_count": null,
            "_view_module": "@jupyter-widgets/controls",
            "_view_module_version": "1.5.0",
            "_view_name": "HBoxView",
            "box_style": "",
            "children": [
              "IPY_MODEL_d3faa56e845342379bffafec15c3a37d",
              "IPY_MODEL_d5533d9b405547c8aef71b696a0364b6",
              "IPY_MODEL_7f9f933ac53d4c57baae30d020729f49"
            ],
            "layout": "IPY_MODEL_f448b605a8854170a2e8ea0f00c2eb5b"
          }
        },
        "d3faa56e845342379bffafec15c3a37d": {
          "model_module": "@jupyter-widgets/controls",
          "model_name": "HTMLModel",
          "model_module_version": "1.5.0",
          "state": {
            "_dom_classes": [],
            "_model_module": "@jupyter-widgets/controls",
            "_model_module_version": "1.5.0",
            "_model_name": "HTMLModel",
            "_view_count": null,
            "_view_module": "@jupyter-widgets/controls",
            "_view_module_version": "1.5.0",
            "_view_name": "HTMLView",
            "description": "",
            "description_tooltip": null,
            "layout": "IPY_MODEL_b1d8ddfc77bb45a0aec9cd2c87629682",
            "placeholder": "​",
            "style": "IPY_MODEL_0111920219a749bf9d930dde015efa60",
            "value": "Downloading tokenizer_config.json: 100%"
          }
        },
        "d5533d9b405547c8aef71b696a0364b6": {
          "model_module": "@jupyter-widgets/controls",
          "model_name": "FloatProgressModel",
          "model_module_version": "1.5.0",
          "state": {
            "_dom_classes": [],
            "_model_module": "@jupyter-widgets/controls",
            "_model_module_version": "1.5.0",
            "_model_name": "FloatProgressModel",
            "_view_count": null,
            "_view_module": "@jupyter-widgets/controls",
            "_view_module_version": "1.5.0",
            "_view_name": "ProgressView",
            "bar_style": "success",
            "description": "",
            "description_tooltip": null,
            "layout": "IPY_MODEL_0819c356ff1445a591da7fd6d48ac855",
            "max": 48,
            "min": 0,
            "orientation": "horizontal",
            "style": "IPY_MODEL_d24a4271549849e7931130344067cc0f",
            "value": 48
          }
        },
        "7f9f933ac53d4c57baae30d020729f49": {
          "model_module": "@jupyter-widgets/controls",
          "model_name": "HTMLModel",
          "model_module_version": "1.5.0",
          "state": {
            "_dom_classes": [],
            "_model_module": "@jupyter-widgets/controls",
            "_model_module_version": "1.5.0",
            "_model_name": "HTMLModel",
            "_view_count": null,
            "_view_module": "@jupyter-widgets/controls",
            "_view_module_version": "1.5.0",
            "_view_name": "HTMLView",
            "description": "",
            "description_tooltip": null,
            "layout": "IPY_MODEL_6e508af8ecfc4b92bb09389437e24d6d",
            "placeholder": "​",
            "style": "IPY_MODEL_9d99338a153f48b58e2aaae74c678a7d",
            "value": " 48.0/48.0 [00:00&lt;00:00, 936B/s]"
          }
        },
        "f448b605a8854170a2e8ea0f00c2eb5b": {
          "model_module": "@jupyter-widgets/base",
          "model_name": "LayoutModel",
          "model_module_version": "1.2.0",
          "state": {
            "_model_module": "@jupyter-widgets/base",
            "_model_module_version": "1.2.0",
            "_model_name": "LayoutModel",
            "_view_count": null,
            "_view_module": "@jupyter-widgets/base",
            "_view_module_version": "1.2.0",
            "_view_name": "LayoutView",
            "align_content": null,
            "align_items": null,
            "align_self": null,
            "border": null,
            "bottom": null,
            "display": null,
            "flex": null,
            "flex_flow": null,
            "grid_area": null,
            "grid_auto_columns": null,
            "grid_auto_flow": null,
            "grid_auto_rows": null,
            "grid_column": null,
            "grid_gap": null,
            "grid_row": null,
            "grid_template_areas": null,
            "grid_template_columns": null,
            "grid_template_rows": null,
            "height": null,
            "justify_content": null,
            "justify_items": null,
            "left": null,
            "margin": null,
            "max_height": null,
            "max_width": null,
            "min_height": null,
            "min_width": null,
            "object_fit": null,
            "object_position": null,
            "order": null,
            "overflow": null,
            "overflow_x": null,
            "overflow_y": null,
            "padding": null,
            "right": null,
            "top": null,
            "visibility": null,
            "width": null
          }
        },
        "b1d8ddfc77bb45a0aec9cd2c87629682": {
          "model_module": "@jupyter-widgets/base",
          "model_name": "LayoutModel",
          "model_module_version": "1.2.0",
          "state": {
            "_model_module": "@jupyter-widgets/base",
            "_model_module_version": "1.2.0",
            "_model_name": "LayoutModel",
            "_view_count": null,
            "_view_module": "@jupyter-widgets/base",
            "_view_module_version": "1.2.0",
            "_view_name": "LayoutView",
            "align_content": null,
            "align_items": null,
            "align_self": null,
            "border": null,
            "bottom": null,
            "display": null,
            "flex": null,
            "flex_flow": null,
            "grid_area": null,
            "grid_auto_columns": null,
            "grid_auto_flow": null,
            "grid_auto_rows": null,
            "grid_column": null,
            "grid_gap": null,
            "grid_row": null,
            "grid_template_areas": null,
            "grid_template_columns": null,
            "grid_template_rows": null,
            "height": null,
            "justify_content": null,
            "justify_items": null,
            "left": null,
            "margin": null,
            "max_height": null,
            "max_width": null,
            "min_height": null,
            "min_width": null,
            "object_fit": null,
            "object_position": null,
            "order": null,
            "overflow": null,
            "overflow_x": null,
            "overflow_y": null,
            "padding": null,
            "right": null,
            "top": null,
            "visibility": null,
            "width": null
          }
        },
        "0111920219a749bf9d930dde015efa60": {
          "model_module": "@jupyter-widgets/controls",
          "model_name": "DescriptionStyleModel",
          "model_module_version": "1.5.0",
          "state": {
            "_model_module": "@jupyter-widgets/controls",
            "_model_module_version": "1.5.0",
            "_model_name": "DescriptionStyleModel",
            "_view_count": null,
            "_view_module": "@jupyter-widgets/base",
            "_view_module_version": "1.2.0",
            "_view_name": "StyleView",
            "description_width": ""
          }
        },
        "0819c356ff1445a591da7fd6d48ac855": {
          "model_module": "@jupyter-widgets/base",
          "model_name": "LayoutModel",
          "model_module_version": "1.2.0",
          "state": {
            "_model_module": "@jupyter-widgets/base",
            "_model_module_version": "1.2.0",
            "_model_name": "LayoutModel",
            "_view_count": null,
            "_view_module": "@jupyter-widgets/base",
            "_view_module_version": "1.2.0",
            "_view_name": "LayoutView",
            "align_content": null,
            "align_items": null,
            "align_self": null,
            "border": null,
            "bottom": null,
            "display": null,
            "flex": null,
            "flex_flow": null,
            "grid_area": null,
            "grid_auto_columns": null,
            "grid_auto_flow": null,
            "grid_auto_rows": null,
            "grid_column": null,
            "grid_gap": null,
            "grid_row": null,
            "grid_template_areas": null,
            "grid_template_columns": null,
            "grid_template_rows": null,
            "height": null,
            "justify_content": null,
            "justify_items": null,
            "left": null,
            "margin": null,
            "max_height": null,
            "max_width": null,
            "min_height": null,
            "min_width": null,
            "object_fit": null,
            "object_position": null,
            "order": null,
            "overflow": null,
            "overflow_x": null,
            "overflow_y": null,
            "padding": null,
            "right": null,
            "top": null,
            "visibility": null,
            "width": null
          }
        },
        "d24a4271549849e7931130344067cc0f": {
          "model_module": "@jupyter-widgets/controls",
          "model_name": "ProgressStyleModel",
          "model_module_version": "1.5.0",
          "state": {
            "_model_module": "@jupyter-widgets/controls",
            "_model_module_version": "1.5.0",
            "_model_name": "ProgressStyleModel",
            "_view_count": null,
            "_view_module": "@jupyter-widgets/base",
            "_view_module_version": "1.2.0",
            "_view_name": "StyleView",
            "bar_color": null,
            "description_width": ""
          }
        },
        "6e508af8ecfc4b92bb09389437e24d6d": {
          "model_module": "@jupyter-widgets/base",
          "model_name": "LayoutModel",
          "model_module_version": "1.2.0",
          "state": {
            "_model_module": "@jupyter-widgets/base",
            "_model_module_version": "1.2.0",
            "_model_name": "LayoutModel",
            "_view_count": null,
            "_view_module": "@jupyter-widgets/base",
            "_view_module_version": "1.2.0",
            "_view_name": "LayoutView",
            "align_content": null,
            "align_items": null,
            "align_self": null,
            "border": null,
            "bottom": null,
            "display": null,
            "flex": null,
            "flex_flow": null,
            "grid_area": null,
            "grid_auto_columns": null,
            "grid_auto_flow": null,
            "grid_auto_rows": null,
            "grid_column": null,
            "grid_gap": null,
            "grid_row": null,
            "grid_template_areas": null,
            "grid_template_columns": null,
            "grid_template_rows": null,
            "height": null,
            "justify_content": null,
            "justify_items": null,
            "left": null,
            "margin": null,
            "max_height": null,
            "max_width": null,
            "min_height": null,
            "min_width": null,
            "object_fit": null,
            "object_position": null,
            "order": null,
            "overflow": null,
            "overflow_x": null,
            "overflow_y": null,
            "padding": null,
            "right": null,
            "top": null,
            "visibility": null,
            "width": null
          }
        },
        "9d99338a153f48b58e2aaae74c678a7d": {
          "model_module": "@jupyter-widgets/controls",
          "model_name": "DescriptionStyleModel",
          "model_module_version": "1.5.0",
          "state": {
            "_model_module": "@jupyter-widgets/controls",
            "_model_module_version": "1.5.0",
            "_model_name": "DescriptionStyleModel",
            "_view_count": null,
            "_view_module": "@jupyter-widgets/base",
            "_view_module_version": "1.2.0",
            "_view_name": "StyleView",
            "description_width": ""
          }
        },
        "dae4dc7f577f4953a933ff2d84e96ccc": {
          "model_module": "@jupyter-widgets/controls",
          "model_name": "HBoxModel",
          "model_module_version": "1.5.0",
          "state": {
            "_dom_classes": [],
            "_model_module": "@jupyter-widgets/controls",
            "_model_module_version": "1.5.0",
            "_model_name": "HBoxModel",
            "_view_count": null,
            "_view_module": "@jupyter-widgets/controls",
            "_view_module_version": "1.5.0",
            "_view_name": "HBoxView",
            "box_style": "",
            "children": [
              "IPY_MODEL_40f56b7370c246aca739ce9afb521f36",
              "IPY_MODEL_16439d9615ee437280ce52e5ca9fc3ad",
              "IPY_MODEL_08ef6c98e5d34a318f2670d1317c3981"
            ],
            "layout": "IPY_MODEL_124c31bb81f64967b0910a042e84a002"
          }
        },
        "40f56b7370c246aca739ce9afb521f36": {
          "model_module": "@jupyter-widgets/controls",
          "model_name": "HTMLModel",
          "model_module_version": "1.5.0",
          "state": {
            "_dom_classes": [],
            "_model_module": "@jupyter-widgets/controls",
            "_model_module_version": "1.5.0",
            "_model_name": "HTMLModel",
            "_view_count": null,
            "_view_module": "@jupyter-widgets/controls",
            "_view_module_version": "1.5.0",
            "_view_name": "HTMLView",
            "description": "",
            "description_tooltip": null,
            "layout": "IPY_MODEL_d29ad0ba2d804e239f23b6421fabe445",
            "placeholder": "​",
            "style": "IPY_MODEL_2d6d9107925d4379b2fb69f1ebc5d69d",
            "value": "Downloading vocab.txt: 100%"
          }
        },
        "16439d9615ee437280ce52e5ca9fc3ad": {
          "model_module": "@jupyter-widgets/controls",
          "model_name": "FloatProgressModel",
          "model_module_version": "1.5.0",
          "state": {
            "_dom_classes": [],
            "_model_module": "@jupyter-widgets/controls",
            "_model_module_version": "1.5.0",
            "_model_name": "FloatProgressModel",
            "_view_count": null,
            "_view_module": "@jupyter-widgets/controls",
            "_view_module_version": "1.5.0",
            "_view_name": "ProgressView",
            "bar_style": "success",
            "description": "",
            "description_tooltip": null,
            "layout": "IPY_MODEL_c64e4b77105b4baaa89da283a4897b6d",
            "max": 231508,
            "min": 0,
            "orientation": "horizontal",
            "style": "IPY_MODEL_eda7c5739e684c1fb0061662657af4d5",
            "value": 231508
          }
        },
        "08ef6c98e5d34a318f2670d1317c3981": {
          "model_module": "@jupyter-widgets/controls",
          "model_name": "HTMLModel",
          "model_module_version": "1.5.0",
          "state": {
            "_dom_classes": [],
            "_model_module": "@jupyter-widgets/controls",
            "_model_module_version": "1.5.0",
            "_model_name": "HTMLModel",
            "_view_count": null,
            "_view_module": "@jupyter-widgets/controls",
            "_view_module_version": "1.5.0",
            "_view_name": "HTMLView",
            "description": "",
            "description_tooltip": null,
            "layout": "IPY_MODEL_0c8b7bd30ce047e1ad3616cbb2c8b8ec",
            "placeholder": "​",
            "style": "IPY_MODEL_15d5e76771af4b2aa0864ebca5c5e26f",
            "value": " 226k/226k [00:00&lt;00:00, 1.66MB/s]"
          }
        },
        "124c31bb81f64967b0910a042e84a002": {
          "model_module": "@jupyter-widgets/base",
          "model_name": "LayoutModel",
          "model_module_version": "1.2.0",
          "state": {
            "_model_module": "@jupyter-widgets/base",
            "_model_module_version": "1.2.0",
            "_model_name": "LayoutModel",
            "_view_count": null,
            "_view_module": "@jupyter-widgets/base",
            "_view_module_version": "1.2.0",
            "_view_name": "LayoutView",
            "align_content": null,
            "align_items": null,
            "align_self": null,
            "border": null,
            "bottom": null,
            "display": null,
            "flex": null,
            "flex_flow": null,
            "grid_area": null,
            "grid_auto_columns": null,
            "grid_auto_flow": null,
            "grid_auto_rows": null,
            "grid_column": null,
            "grid_gap": null,
            "grid_row": null,
            "grid_template_areas": null,
            "grid_template_columns": null,
            "grid_template_rows": null,
            "height": null,
            "justify_content": null,
            "justify_items": null,
            "left": null,
            "margin": null,
            "max_height": null,
            "max_width": null,
            "min_height": null,
            "min_width": null,
            "object_fit": null,
            "object_position": null,
            "order": null,
            "overflow": null,
            "overflow_x": null,
            "overflow_y": null,
            "padding": null,
            "right": null,
            "top": null,
            "visibility": null,
            "width": null
          }
        },
        "d29ad0ba2d804e239f23b6421fabe445": {
          "model_module": "@jupyter-widgets/base",
          "model_name": "LayoutModel",
          "model_module_version": "1.2.0",
          "state": {
            "_model_module": "@jupyter-widgets/base",
            "_model_module_version": "1.2.0",
            "_model_name": "LayoutModel",
            "_view_count": null,
            "_view_module": "@jupyter-widgets/base",
            "_view_module_version": "1.2.0",
            "_view_name": "LayoutView",
            "align_content": null,
            "align_items": null,
            "align_self": null,
            "border": null,
            "bottom": null,
            "display": null,
            "flex": null,
            "flex_flow": null,
            "grid_area": null,
            "grid_auto_columns": null,
            "grid_auto_flow": null,
            "grid_auto_rows": null,
            "grid_column": null,
            "grid_gap": null,
            "grid_row": null,
            "grid_template_areas": null,
            "grid_template_columns": null,
            "grid_template_rows": null,
            "height": null,
            "justify_content": null,
            "justify_items": null,
            "left": null,
            "margin": null,
            "max_height": null,
            "max_width": null,
            "min_height": null,
            "min_width": null,
            "object_fit": null,
            "object_position": null,
            "order": null,
            "overflow": null,
            "overflow_x": null,
            "overflow_y": null,
            "padding": null,
            "right": null,
            "top": null,
            "visibility": null,
            "width": null
          }
        },
        "2d6d9107925d4379b2fb69f1ebc5d69d": {
          "model_module": "@jupyter-widgets/controls",
          "model_name": "DescriptionStyleModel",
          "model_module_version": "1.5.0",
          "state": {
            "_model_module": "@jupyter-widgets/controls",
            "_model_module_version": "1.5.0",
            "_model_name": "DescriptionStyleModel",
            "_view_count": null,
            "_view_module": "@jupyter-widgets/base",
            "_view_module_version": "1.2.0",
            "_view_name": "StyleView",
            "description_width": ""
          }
        },
        "c64e4b77105b4baaa89da283a4897b6d": {
          "model_module": "@jupyter-widgets/base",
          "model_name": "LayoutModel",
          "model_module_version": "1.2.0",
          "state": {
            "_model_module": "@jupyter-widgets/base",
            "_model_module_version": "1.2.0",
            "_model_name": "LayoutModel",
            "_view_count": null,
            "_view_module": "@jupyter-widgets/base",
            "_view_module_version": "1.2.0",
            "_view_name": "LayoutView",
            "align_content": null,
            "align_items": null,
            "align_self": null,
            "border": null,
            "bottom": null,
            "display": null,
            "flex": null,
            "flex_flow": null,
            "grid_area": null,
            "grid_auto_columns": null,
            "grid_auto_flow": null,
            "grid_auto_rows": null,
            "grid_column": null,
            "grid_gap": null,
            "grid_row": null,
            "grid_template_areas": null,
            "grid_template_columns": null,
            "grid_template_rows": null,
            "height": null,
            "justify_content": null,
            "justify_items": null,
            "left": null,
            "margin": null,
            "max_height": null,
            "max_width": null,
            "min_height": null,
            "min_width": null,
            "object_fit": null,
            "object_position": null,
            "order": null,
            "overflow": null,
            "overflow_x": null,
            "overflow_y": null,
            "padding": null,
            "right": null,
            "top": null,
            "visibility": null,
            "width": null
          }
        },
        "eda7c5739e684c1fb0061662657af4d5": {
          "model_module": "@jupyter-widgets/controls",
          "model_name": "ProgressStyleModel",
          "model_module_version": "1.5.0",
          "state": {
            "_model_module": "@jupyter-widgets/controls",
            "_model_module_version": "1.5.0",
            "_model_name": "ProgressStyleModel",
            "_view_count": null,
            "_view_module": "@jupyter-widgets/base",
            "_view_module_version": "1.2.0",
            "_view_name": "StyleView",
            "bar_color": null,
            "description_width": ""
          }
        },
        "0c8b7bd30ce047e1ad3616cbb2c8b8ec": {
          "model_module": "@jupyter-widgets/base",
          "model_name": "LayoutModel",
          "model_module_version": "1.2.0",
          "state": {
            "_model_module": "@jupyter-widgets/base",
            "_model_module_version": "1.2.0",
            "_model_name": "LayoutModel",
            "_view_count": null,
            "_view_module": "@jupyter-widgets/base",
            "_view_module_version": "1.2.0",
            "_view_name": "LayoutView",
            "align_content": null,
            "align_items": null,
            "align_self": null,
            "border": null,
            "bottom": null,
            "display": null,
            "flex": null,
            "flex_flow": null,
            "grid_area": null,
            "grid_auto_columns": null,
            "grid_auto_flow": null,
            "grid_auto_rows": null,
            "grid_column": null,
            "grid_gap": null,
            "grid_row": null,
            "grid_template_areas": null,
            "grid_template_columns": null,
            "grid_template_rows": null,
            "height": null,
            "justify_content": null,
            "justify_items": null,
            "left": null,
            "margin": null,
            "max_height": null,
            "max_width": null,
            "min_height": null,
            "min_width": null,
            "object_fit": null,
            "object_position": null,
            "order": null,
            "overflow": null,
            "overflow_x": null,
            "overflow_y": null,
            "padding": null,
            "right": null,
            "top": null,
            "visibility": null,
            "width": null
          }
        },
        "15d5e76771af4b2aa0864ebca5c5e26f": {
          "model_module": "@jupyter-widgets/controls",
          "model_name": "DescriptionStyleModel",
          "model_module_version": "1.5.0",
          "state": {
            "_model_module": "@jupyter-widgets/controls",
            "_model_module_version": "1.5.0",
            "_model_name": "DescriptionStyleModel",
            "_view_count": null,
            "_view_module": "@jupyter-widgets/base",
            "_view_module_version": "1.2.0",
            "_view_name": "StyleView",
            "description_width": ""
          }
        }
      }
    }
  },
  "cells": [
    {
      "cell_type": "markdown",
      "metadata": {
        "id": "view-in-github",
        "colab_type": "text"
      },
      "source": [
        "<a href=\"https://colab.research.google.com/github/andersonmgomes/wgesad22_transformers/blob/main/GESAD2022_Transformers_Caderno02.ipynb\" target=\"_parent\"><img src=\"https://colab.research.google.com/assets/colab-badge.svg\" alt=\"Open In Colab\"/></a>"
      ]
    },
    {
      "cell_type": "markdown",
      "source": [
        "![gesad.png](data:image/png;base64,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)\n",
        "\n",
        "---\n",
        "#<center><b>WGESAD22</b></center>\n",
        "##<center><i>Workshop do Grupo de Engenharia de Software Adaptativo e Distribuído</i></center>\n",
        "---\n",
        "\n",
        "### <center>Prof.: [Paulo Henrique Maia](https://gesad.github.io/team/paulo-henrique/)</center>\n",
        "### <center>Aluno: [Anderson Martins Gomes](https://www.linkedin.com/in/amartinsg/)</center>\n",
        "\n",
        "---\n",
        "##### <center>Fortaleza, agosto de 2022.</center>\n",
        "---"
      ],
      "metadata": {
        "id": "cWMsD62LSJ6d"
      }
    },
    {
      "cell_type": "markdown",
      "source": [
        "# Notebook 2: \"Behind The Pipeline\"\n",
        "\n",
        "\n",
        "---\n",
        "\n",
        "## 2.1: Um Exemplo com Análise de Sentimentos\n",
        "\n",
        "---\n"
      ],
      "metadata": {
        "id": "mIqIHMlVrWCL"
      }
    },
    {
      "cell_type": "code",
      "source": [
        "#instalando a biblioteca transformers\n",
        "!pip install datasets evaluate transformers[sentencepiece]"
      ],
      "metadata": {
        "id": "9_UNQCrLr0cR",
        "colab": {
          "base_uri": "https://localhost:8080/"
        },
        "outputId": "04da83cc-866c-4715-945d-4c0a2e674206"
      },
      "execution_count": null,
      "outputs": [
        {
          "output_type": "stream",
          "name": "stdout",
          "text": [
            "Looking in indexes: https://pypi.org/simple, https://us-python.pkg.dev/colab-wheels/public/simple/\n",
            "Collecting datasets\n",
            "  Downloading datasets-2.4.0-py3-none-any.whl (365 kB)\n",
            "\u001b[K     |████████████████████████████████| 365 kB 5.3 MB/s \n",
            "\u001b[?25hCollecting evaluate\n",
            "  Downloading evaluate-0.2.2-py3-none-any.whl (69 kB)\n",
            "\u001b[K     |████████████████████████████████| 69 kB 3.8 MB/s \n",
            "\u001b[?25hCollecting transformers[sentencepiece]\n",
            "  Downloading transformers-4.21.1-py3-none-any.whl (4.7 MB)\n",
            "\u001b[K     |████████████████████████████████| 4.7 MB 29.2 MB/s \n",
            "\u001b[?25hCollecting xxhash\n",
            "  Downloading xxhash-3.0.0-cp37-cp37m-manylinux_2_17_x86_64.manylinux2014_x86_64.whl (212 kB)\n",
            "\u001b[K     |████████████████████████████████| 212 kB 45.5 MB/s \n",
            "\u001b[?25hCollecting multiprocess\n",
            "  Downloading multiprocess-0.70.13-py37-none-any.whl (115 kB)\n",
            "\u001b[K     |████████████████████████████████| 115 kB 21.7 MB/s \n",
            "\u001b[?25hRequirement already satisfied: aiohttp in /usr/local/lib/python3.7/dist-packages (from datasets) (3.8.1)\n",
            "Requirement already satisfied: importlib-metadata in /usr/local/lib/python3.7/dist-packages (from datasets) (4.12.0)\n",
            "Requirement already satisfied: pyarrow>=6.0.0 in /usr/local/lib/python3.7/dist-packages (from datasets) (6.0.1)\n",
            "Requirement already satisfied: numpy>=1.17 in /usr/local/lib/python3.7/dist-packages (from datasets) (1.21.6)\n",
            "Requirement already satisfied: requests>=2.19.0 in /usr/local/lib/python3.7/dist-packages (from datasets) (2.23.0)\n",
            "Requirement already satisfied: packaging in /usr/local/lib/python3.7/dist-packages (from datasets) (21.3)\n",
            "Collecting huggingface-hub<1.0.0,>=0.1.0\n",
            "  Downloading huggingface_hub-0.8.1-py3-none-any.whl (101 kB)\n",
            "\u001b[K     |████████████████████████████████| 101 kB 4.2 MB/s \n",
            "\u001b[?25hRequirement already satisfied: dill<0.3.6 in /usr/local/lib/python3.7/dist-packages (from datasets) (0.3.5.1)\n",
            "Collecting fsspec[http]>=2021.11.1\n",
            "  Downloading fsspec-2022.7.1-py3-none-any.whl (141 kB)\n",
            "\u001b[K     |████████████████████████████████| 141 kB 7.5 MB/s \n",
            "\u001b[?25hRequirement already satisfied: tqdm>=4.62.1 in /usr/local/lib/python3.7/dist-packages (from datasets) (4.64.0)\n",
            "Collecting responses<0.19\n",
            "  Downloading responses-0.18.0-py3-none-any.whl (38 kB)\n",
            "Requirement already satisfied: pandas in /usr/local/lib/python3.7/dist-packages (from datasets) (1.3.5)\n",
            "Requirement already satisfied: filelock in /usr/local/lib/python3.7/dist-packages (from huggingface-hub<1.0.0,>=0.1.0->datasets) (3.8.0)\n",
            "Requirement already satisfied: typing-extensions>=3.7.4.3 in /usr/local/lib/python3.7/dist-packages (from huggingface-hub<1.0.0,>=0.1.0->datasets) (4.1.1)\n",
            "Collecting pyyaml>=5.1\n",
            "  Downloading PyYAML-6.0-cp37-cp37m-manylinux_2_5_x86_64.manylinux1_x86_64.manylinux_2_12_x86_64.manylinux2010_x86_64.whl (596 kB)\n",
            "\u001b[K     |████████████████████████████████| 596 kB 50.0 MB/s \n",
            "\u001b[?25hRequirement already satisfied: pyparsing!=3.0.5,>=2.0.2 in /usr/local/lib/python3.7/dist-packages (from packaging->datasets) (3.0.9)\n",
            "Requirement already satisfied: certifi>=2017.4.17 in /usr/local/lib/python3.7/dist-packages (from requests>=2.19.0->datasets) (2022.6.15)\n",
            "Requirement already satisfied: chardet<4,>=3.0.2 in /usr/local/lib/python3.7/dist-packages (from requests>=2.19.0->datasets) (3.0.4)\n",
            "Requirement already satisfied: idna<3,>=2.5 in /usr/local/lib/python3.7/dist-packages (from requests>=2.19.0->datasets) (2.10)\n",
            "Requirement already satisfied: urllib3!=1.25.0,!=1.25.1,<1.26,>=1.21.1 in /usr/local/lib/python3.7/dist-packages (from requests>=2.19.0->datasets) (1.24.3)\n",
            "Collecting urllib3!=1.25.0,!=1.25.1,<1.26,>=1.21.1\n",
            "  Downloading urllib3-1.25.11-py2.py3-none-any.whl (127 kB)\n",
            "\u001b[K     |████████████████████████████████| 127 kB 51.8 MB/s \n",
            "\u001b[?25hRequirement already satisfied: asynctest==0.13.0 in /usr/local/lib/python3.7/dist-packages (from aiohttp->datasets) (0.13.0)\n",
            "Requirement already satisfied: frozenlist>=1.1.1 in /usr/local/lib/python3.7/dist-packages (from aiohttp->datasets) (1.3.1)\n",
            "Requirement already satisfied: multidict<7.0,>=4.5 in /usr/local/lib/python3.7/dist-packages (from aiohttp->datasets) (6.0.2)\n",
            "Requirement already satisfied: attrs>=17.3.0 in /usr/local/lib/python3.7/dist-packages (from aiohttp->datasets) (22.1.0)\n",
            "Requirement already satisfied: charset-normalizer<3.0,>=2.0 in /usr/local/lib/python3.7/dist-packages (from aiohttp->datasets) (2.1.0)\n",
            "Requirement already satisfied: aiosignal>=1.1.2 in /usr/local/lib/python3.7/dist-packages (from aiohttp->datasets) (1.2.0)\n",
            "Requirement already satisfied: yarl<2.0,>=1.0 in /usr/local/lib/python3.7/dist-packages (from aiohttp->datasets) (1.8.1)\n",
            "Requirement already satisfied: async-timeout<5.0,>=4.0.0a3 in /usr/local/lib/python3.7/dist-packages (from aiohttp->datasets) (4.0.2)\n",
            "Requirement already satisfied: zipp>=0.5 in /usr/local/lib/python3.7/dist-packages (from importlib-metadata->datasets) (3.8.1)\n",
            "Requirement already satisfied: pytz>=2017.3 in /usr/local/lib/python3.7/dist-packages (from pandas->datasets) (2022.2)\n",
            "Requirement already satisfied: python-dateutil>=2.7.3 in /usr/local/lib/python3.7/dist-packages (from pandas->datasets) (2.8.2)\n",
            "Requirement already satisfied: six>=1.5 in /usr/local/lib/python3.7/dist-packages (from python-dateutil>=2.7.3->pandas->datasets) (1.15.0)\n",
            "Requirement already satisfied: regex!=2019.12.17 in /usr/local/lib/python3.7/dist-packages (from transformers[sentencepiece]) (2022.6.2)\n",
            "Collecting tokenizers!=0.11.3,<0.13,>=0.11.1\n",
            "  Downloading tokenizers-0.12.1-cp37-cp37m-manylinux_2_12_x86_64.manylinux2010_x86_64.whl (6.6 MB)\n",
            "\u001b[K     |████████████████████████████████| 6.6 MB 38.7 MB/s \n",
            "\u001b[?25hRequirement already satisfied: protobuf<=3.20.1 in /usr/local/lib/python3.7/dist-packages (from transformers[sentencepiece]) (3.17.3)\n",
            "Collecting sentencepiece!=0.1.92,>=0.1.91\n",
            "  Downloading sentencepiece-0.1.97-cp37-cp37m-manylinux_2_17_x86_64.manylinux2014_x86_64.whl (1.3 MB)\n",
            "\u001b[K     |████████████████████████████████| 1.3 MB 48.6 MB/s \n",
            "\u001b[?25hInstalling collected packages: urllib3, pyyaml, fsspec, xxhash, tokenizers, responses, multiprocess, huggingface-hub, transformers, sentencepiece, datasets, evaluate\n",
            "  Attempting uninstall: urllib3\n",
            "    Found existing installation: urllib3 1.24.3\n",
            "    Uninstalling urllib3-1.24.3:\n",
            "      Successfully uninstalled urllib3-1.24.3\n",
            "  Attempting uninstall: pyyaml\n",
            "    Found existing installation: PyYAML 3.13\n",
            "    Uninstalling PyYAML-3.13:\n",
            "      Successfully uninstalled PyYAML-3.13\n",
            "Successfully installed datasets-2.4.0 evaluate-0.2.2 fsspec-2022.7.1 huggingface-hub-0.8.1 multiprocess-0.70.13 pyyaml-6.0 responses-0.18.0 sentencepiece-0.1.97 tokenizers-0.12.1 transformers-4.21.1 urllib3-1.25.11 xxhash-3.0.0\n"
          ]
        }
      ]
    },
    {
      "cell_type": "code",
      "source": [
        "from transformers import pipeline #vide: https://huggingface.co/\n",
        "\n",
        "#instanciando e usando um classificador (análise de sentimentos) com a função pipeline\n",
        "classifier = pipeline(\"sentiment-analysis\")\n",
        "#lista de exemplos para test\n",
        "SAMPLE_LIST = [\"I've been waiting for a HuggingFace course my whole life.\",\n",
        "        \"I hate this so much!\"]\n",
        "#chamando o classificador        \n",
        "classifier(SAMPLE_LIST)"
      ],
      "metadata": {
        "id": "5wvrkT7brutz",
        "colab": {
          "base_uri": "https://localhost:8080/",
          "height": 239,
          "referenced_widgets": [
            "0abe0d1b866a42adb55dcef23d1ad930",
            "5a95946a5bfd435585cac430d433a80d",
            "52881844f27347e2ae4e8fdbf70851e8",
            "d9b780ad59c44675bc6a5f7e8bdd3948",
            "e4f129dedce84371bff10bbafb0092b4",
            "38fad69c1a1541c0948feaccda7c556e",
            "077e3008f2f243d2b6c2984745ad0f2c",
            "2363add05cdc4249a871d1632139c9b6",
            "7b033086b3e44123973a17201af0d6fc",
            "cc974d20564646fbbae46d9cf9e1cff1",
            "1f48a4bc74624e8aa692433a74268d42",
            "5ad1e343e798495f990b539efe72d517",
            "b9c878d1110946c293a588b61b89930b",
            "d6d8f75916304f77945fa86e8df72c14",
            "ae827e36987e4edaaf1a9f5dc45d6450",
            "0eadb521288347fbab27eced44f47043",
            "bc7bea1993be4234aa2dfc31cb62eed1",
            "0e8b6e4a954d4d2185d4ed6148b8b5e2",
            "5f2bae99c12e42788f36e9061e1e05e1",
            "1e8ecd6bab8044aabdb9c91ab59ded1d",
            "f7febbb3c9dc4c7aa9570cb969663609",
            "3de63e301dfe4399b6e54e88754da47f",
            "c949f9a94b2c4200b29b7210ca05d77a",
            "d3faa56e845342379bffafec15c3a37d",
            "d5533d9b405547c8aef71b696a0364b6",
            "7f9f933ac53d4c57baae30d020729f49",
            "f448b605a8854170a2e8ea0f00c2eb5b",
            "b1d8ddfc77bb45a0aec9cd2c87629682",
            "0111920219a749bf9d930dde015efa60",
            "0819c356ff1445a591da7fd6d48ac855",
            "d24a4271549849e7931130344067cc0f",
            "6e508af8ecfc4b92bb09389437e24d6d",
            "9d99338a153f48b58e2aaae74c678a7d",
            "dae4dc7f577f4953a933ff2d84e96ccc",
            "40f56b7370c246aca739ce9afb521f36",
            "16439d9615ee437280ce52e5ca9fc3ad",
            "08ef6c98e5d34a318f2670d1317c3981",
            "124c31bb81f64967b0910a042e84a002",
            "d29ad0ba2d804e239f23b6421fabe445",
            "2d6d9107925d4379b2fb69f1ebc5d69d",
            "c64e4b77105b4baaa89da283a4897b6d",
            "eda7c5739e684c1fb0061662657af4d5",
            "0c8b7bd30ce047e1ad3616cbb2c8b8ec",
            "15d5e76771af4b2aa0864ebca5c5e26f"
          ]
        },
        "outputId": "2d8472b8-8939-48a8-fdb2-b10d449a6239"
      },
      "execution_count": null,
      "outputs": [
        {
          "output_type": "stream",
          "name": "stderr",
          "text": [
            "No model was supplied, defaulted to distilbert-base-uncased-finetuned-sst-2-english and revision af0f99b (https://huggingface.co/distilbert-base-uncased-finetuned-sst-2-english).\n",
            "Using a pipeline without specifying a model name and revision in production is not recommended.\n"
          ]
        },
        {
          "output_type": "display_data",
          "data": {
            "text/plain": [
              "Downloading config.json:   0%|          | 0.00/629 [00:00<?, ?B/s]"
            ],
            "application/vnd.jupyter.widget-view+json": {
              "version_major": 2,
              "version_minor": 0,
              "model_id": "0abe0d1b866a42adb55dcef23d1ad930"
            }
          },
          "metadata": {}
        },
        {
          "output_type": "display_data",
          "data": {
            "text/plain": [
              "Downloading pytorch_model.bin:   0%|          | 0.00/255M [00:00<?, ?B/s]"
            ],
            "application/vnd.jupyter.widget-view+json": {
              "version_major": 2,
              "version_minor": 0,
              "model_id": "5ad1e343e798495f990b539efe72d517"
            }
          },
          "metadata": {}
        },
        {
          "output_type": "display_data",
          "data": {
            "text/plain": [
              "Downloading tokenizer_config.json:   0%|          | 0.00/48.0 [00:00<?, ?B/s]"
            ],
            "application/vnd.jupyter.widget-view+json": {
              "version_major": 2,
              "version_minor": 0,
              "model_id": "c949f9a94b2c4200b29b7210ca05d77a"
            }
          },
          "metadata": {}
        },
        {
          "output_type": "display_data",
          "data": {
            "text/plain": [
              "Downloading vocab.txt:   0%|          | 0.00/226k [00:00<?, ?B/s]"
            ],
            "application/vnd.jupyter.widget-view+json": {
              "version_major": 2,
              "version_minor": 0,
              "model_id": "dae4dc7f577f4953a933ff2d84e96ccc"
            }
          },
          "metadata": {}
        },
        {
          "output_type": "execute_result",
          "data": {
            "text/plain": [
              "[{'label': 'POSITIVE', 'score': 0.9598049521446228},\n",
              " {'label': 'NEGATIVE', 'score': 0.9994558691978455}]"
            ]
          },
          "metadata": {},
          "execution_count": 2
        }
      ]
    },
    {
      "cell_type": "markdown",
      "source": [
        "### O mesmo exemplo sem utilizar a função \"pipeline\":"
      ],
      "metadata": {
        "id": "N1U-3WTRL3d5"
      }
    },
    {
      "cell_type": "code",
      "source": [
        "from transformers import AutoTokenizer"
      ],
      "metadata": {
        "id": "cxl6sPszAIci"
      },
      "execution_count": null,
      "outputs": []
    },
    {
      "cell_type": "code",
      "source": [
        "'''\n",
        "Architecture: This is the skeleton of the model — the definition of each layer \n",
        "and each operation that happens within the model.\n",
        "Checkpoints: These are the weights that will be loaded in a given architecture.\n",
        "Model: This is an umbrella term that isn’t as precise as “architecture” or “checkpoint”: \n",
        "it can mean both. This course will specify architecture or checkpoint when it matters \n",
        "to reduce ambiguity.\n",
        "For example, BERT is an architecture while bert-base-cased, a set of weights trained \n",
        "by the Google team for the first release of BERT, is a checkpoint. \n",
        "However, one can say “the BERT model” and “the bert-base-cased model.”\n",
        "'''\n",
        "checkpoint = \"distilbert-base-uncased-finetuned-sst-2-english\" #checkpoint ~ modelo\n",
        "tokenizer = AutoTokenizer.from_pretrained(checkpoint) \n",
        "tokenizer #observe o conjunto de configurações (parâmetros) possíveis"
      ],
      "metadata": {
        "colab": {
          "base_uri": "https://localhost:8080/"
        },
        "id": "j623BSflAPay",
        "outputId": "2e0a8455-de54-43b5-ef82-725f31e24fda"
      },
      "execution_count": null,
      "outputs": [
        {
          "output_type": "execute_result",
          "data": {
            "text/plain": [
              "PreTrainedTokenizerFast(name_or_path='distilbert-base-uncased-finetuned-sst-2-english', vocab_size=30522, model_max_len=512, is_fast=True, padding_side='right', truncation_side='right', special_tokens={'unk_token': '[UNK]', 'sep_token': '[SEP]', 'pad_token': '[PAD]', 'cls_token': '[CLS]', 'mask_token': '[MASK]'})"
            ]
          },
          "metadata": {},
          "execution_count": 4
        }
      ]
    },
    {
      "cell_type": "code",
      "source": [
        "#gerando os inputs para o modelo a partir do tokenizador\n",
        "inputs = tokenizer(SAMPLE_LIST, padding=True, truncation=True, return_tensors=\"pt\") #pt: PyTorch\n",
        "inputs"
      ],
      "metadata": {
        "colab": {
          "base_uri": "https://localhost:8080/"
        },
        "id": "4Pch05_kBReO",
        "outputId": "c56272fc-f7fa-41c5-f0ca-aab70fbd4179"
      },
      "execution_count": null,
      "outputs": [
        {
          "output_type": "execute_result",
          "data": {
            "text/plain": [
              "{'input_ids': tensor([[  101,  1045,  1005,  2310,  2042,  3403,  2005,  1037, 17662, 12172,\n",
              "          2607,  2026,  2878,  2166,  1012,   102],\n",
              "        [  101,  1045,  5223,  2023,  2061,  2172,   999,   102,     0,     0,\n",
              "             0,     0,     0,     0,     0,     0]]), 'attention_mask': tensor([[1, 1, 1, 1, 1, 1, 1, 1, 1, 1, 1, 1, 1, 1, 1, 1],\n",
              "        [1, 1, 1, 1, 1, 1, 1, 1, 0, 0, 0, 0, 0, 0, 0, 0]])}"
            ]
          },
          "metadata": {},
          "execution_count": 5
        }
      ]
    },
    {
      "cell_type": "code",
      "source": [
        "from transformers import AutoModelForSequenceClassification\n",
        "# Vide: https://huggingface.co/course/chapter2/2?fw=pt#going-through-the-model\n",
        "#carregando o modelo pré-treinado (transfer learning!!!)\n",
        "model = AutoModelForSequenceClassification.from_pretrained(checkpoint)# transfer learning\n",
        "model #observe a quantidade de parâmetros disponíveis"
      ],
      "metadata": {
        "colab": {
          "base_uri": "https://localhost:8080/"
        },
        "id": "3yUN7wzTBx29",
        "outputId": "8e67e648-6b0b-4ae5-9404-b6e7dc297758"
      },
      "execution_count": null,
      "outputs": [
        {
          "output_type": "execute_result",
          "data": {
            "text/plain": [
              "DistilBertForSequenceClassification(\n",
              "  (distilbert): DistilBertModel(\n",
              "    (embeddings): Embeddings(\n",
              "      (word_embeddings): Embedding(30522, 768, padding_idx=0)\n",
              "      (position_embeddings): Embedding(512, 768)\n",
              "      (LayerNorm): LayerNorm((768,), eps=1e-12, elementwise_affine=True)\n",
              "      (dropout): Dropout(p=0.1, inplace=False)\n",
              "    )\n",
              "    (transformer): Transformer(\n",
              "      (layer): ModuleList(\n",
              "        (0): TransformerBlock(\n",
              "          (attention): MultiHeadSelfAttention(\n",
              "            (dropout): Dropout(p=0.1, inplace=False)\n",
              "            (q_lin): Linear(in_features=768, out_features=768, bias=True)\n",
              "            (k_lin): Linear(in_features=768, out_features=768, bias=True)\n",
              "            (v_lin): Linear(in_features=768, out_features=768, bias=True)\n",
              "            (out_lin): Linear(in_features=768, out_features=768, bias=True)\n",
              "          )\n",
              "          (sa_layer_norm): LayerNorm((768,), eps=1e-12, elementwise_affine=True)\n",
              "          (ffn): FFN(\n",
              "            (dropout): Dropout(p=0.1, inplace=False)\n",
              "            (lin1): Linear(in_features=768, out_features=3072, bias=True)\n",
              "            (lin2): Linear(in_features=3072, out_features=768, bias=True)\n",
              "            (activation): GELUActivation()\n",
              "          )\n",
              "          (output_layer_norm): LayerNorm((768,), eps=1e-12, elementwise_affine=True)\n",
              "        )\n",
              "        (1): TransformerBlock(\n",
              "          (attention): MultiHeadSelfAttention(\n",
              "            (dropout): Dropout(p=0.1, inplace=False)\n",
              "            (q_lin): Linear(in_features=768, out_features=768, bias=True)\n",
              "            (k_lin): Linear(in_features=768, out_features=768, bias=True)\n",
              "            (v_lin): Linear(in_features=768, out_features=768, bias=True)\n",
              "            (out_lin): Linear(in_features=768, out_features=768, bias=True)\n",
              "          )\n",
              "          (sa_layer_norm): LayerNorm((768,), eps=1e-12, elementwise_affine=True)\n",
              "          (ffn): FFN(\n",
              "            (dropout): Dropout(p=0.1, inplace=False)\n",
              "            (lin1): Linear(in_features=768, out_features=3072, bias=True)\n",
              "            (lin2): Linear(in_features=3072, out_features=768, bias=True)\n",
              "            (activation): GELUActivation()\n",
              "          )\n",
              "          (output_layer_norm): LayerNorm((768,), eps=1e-12, elementwise_affine=True)\n",
              "        )\n",
              "        (2): TransformerBlock(\n",
              "          (attention): MultiHeadSelfAttention(\n",
              "            (dropout): Dropout(p=0.1, inplace=False)\n",
              "            (q_lin): Linear(in_features=768, out_features=768, bias=True)\n",
              "            (k_lin): Linear(in_features=768, out_features=768, bias=True)\n",
              "            (v_lin): Linear(in_features=768, out_features=768, bias=True)\n",
              "            (out_lin): Linear(in_features=768, out_features=768, bias=True)\n",
              "          )\n",
              "          (sa_layer_norm): LayerNorm((768,), eps=1e-12, elementwise_affine=True)\n",
              "          (ffn): FFN(\n",
              "            (dropout): Dropout(p=0.1, inplace=False)\n",
              "            (lin1): Linear(in_features=768, out_features=3072, bias=True)\n",
              "            (lin2): Linear(in_features=3072, out_features=768, bias=True)\n",
              "            (activation): GELUActivation()\n",
              "          )\n",
              "          (output_layer_norm): LayerNorm((768,), eps=1e-12, elementwise_affine=True)\n",
              "        )\n",
              "        (3): TransformerBlock(\n",
              "          (attention): MultiHeadSelfAttention(\n",
              "            (dropout): Dropout(p=0.1, inplace=False)\n",
              "            (q_lin): Linear(in_features=768, out_features=768, bias=True)\n",
              "            (k_lin): Linear(in_features=768, out_features=768, bias=True)\n",
              "            (v_lin): Linear(in_features=768, out_features=768, bias=True)\n",
              "            (out_lin): Linear(in_features=768, out_features=768, bias=True)\n",
              "          )\n",
              "          (sa_layer_norm): LayerNorm((768,), eps=1e-12, elementwise_affine=True)\n",
              "          (ffn): FFN(\n",
              "            (dropout): Dropout(p=0.1, inplace=False)\n",
              "            (lin1): Linear(in_features=768, out_features=3072, bias=True)\n",
              "            (lin2): Linear(in_features=3072, out_features=768, bias=True)\n",
              "            (activation): GELUActivation()\n",
              "          )\n",
              "          (output_layer_norm): LayerNorm((768,), eps=1e-12, elementwise_affine=True)\n",
              "        )\n",
              "        (4): TransformerBlock(\n",
              "          (attention): MultiHeadSelfAttention(\n",
              "            (dropout): Dropout(p=0.1, inplace=False)\n",
              "            (q_lin): Linear(in_features=768, out_features=768, bias=True)\n",
              "            (k_lin): Linear(in_features=768, out_features=768, bias=True)\n",
              "            (v_lin): Linear(in_features=768, out_features=768, bias=True)\n",
              "            (out_lin): Linear(in_features=768, out_features=768, bias=True)\n",
              "          )\n",
              "          (sa_layer_norm): LayerNorm((768,), eps=1e-12, elementwise_affine=True)\n",
              "          (ffn): FFN(\n",
              "            (dropout): Dropout(p=0.1, inplace=False)\n",
              "            (lin1): Linear(in_features=768, out_features=3072, bias=True)\n",
              "            (lin2): Linear(in_features=3072, out_features=768, bias=True)\n",
              "            (activation): GELUActivation()\n",
              "          )\n",
              "          (output_layer_norm): LayerNorm((768,), eps=1e-12, elementwise_affine=True)\n",
              "        )\n",
              "        (5): TransformerBlock(\n",
              "          (attention): MultiHeadSelfAttention(\n",
              "            (dropout): Dropout(p=0.1, inplace=False)\n",
              "            (q_lin): Linear(in_features=768, out_features=768, bias=True)\n",
              "            (k_lin): Linear(in_features=768, out_features=768, bias=True)\n",
              "            (v_lin): Linear(in_features=768, out_features=768, bias=True)\n",
              "            (out_lin): Linear(in_features=768, out_features=768, bias=True)\n",
              "          )\n",
              "          (sa_layer_norm): LayerNorm((768,), eps=1e-12, elementwise_affine=True)\n",
              "          (ffn): FFN(\n",
              "            (dropout): Dropout(p=0.1, inplace=False)\n",
              "            (lin1): Linear(in_features=768, out_features=3072, bias=True)\n",
              "            (lin2): Linear(in_features=3072, out_features=768, bias=True)\n",
              "            (activation): GELUActivation()\n",
              "          )\n",
              "          (output_layer_norm): LayerNorm((768,), eps=1e-12, elementwise_affine=True)\n",
              "        )\n",
              "      )\n",
              "    )\n",
              "  )\n",
              "  (pre_classifier): Linear(in_features=768, out_features=768, bias=True)\n",
              "  (classifier): Linear(in_features=768, out_features=2, bias=True)\n",
              "  (dropout): Dropout(p=0.2, inplace=False)\n",
              ")"
            ]
          },
          "metadata": {},
          "execution_count": 6
        }
      ]
    },
    {
      "cell_type": "code",
      "source": [
        "outputs = model(**inputs)\n",
        "outputs.logits"
      ],
      "metadata": {
        "colab": {
          "base_uri": "https://localhost:8080/"
        },
        "id": "Eu5N499DCKbd",
        "outputId": "ad6f3a48-0b23-41e9-e6ff-f2c13aa33e4e"
      },
      "execution_count": null,
      "outputs": [
        {
          "output_type": "execute_result",
          "data": {
            "text/plain": [
              "tensor([[-1.5607,  1.6123],\n",
              "        [ 4.1692, -3.3464]], grad_fn=<AddmmBackward0>)"
            ]
          },
          "metadata": {},
          "execution_count": 7
        }
      ]
    },
    {
      "cell_type": "code",
      "source": [
        "import torch\n",
        "\n",
        "predictions = torch.nn.functional.softmax(outputs.logits, dim=-1)\n",
        "print(predictions)"
      ],
      "metadata": {
        "colab": {
          "base_uri": "https://localhost:8080/"
        },
        "id": "yt8t1HbJCXiV",
        "outputId": "22fbfeeb-b624-40ec-c70c-1b4416c616e7"
      },
      "execution_count": null,
      "outputs": [
        {
          "output_type": "stream",
          "name": "stdout",
          "text": [
            "tensor([[4.0195e-02, 9.5980e-01],\n",
            "        [9.9946e-01, 5.4418e-04]], grad_fn=<SoftmaxBackward0>)\n"
          ]
        }
      ]
    },
    {
      "cell_type": "code",
      "source": [
        "model.config.id2label"
      ],
      "metadata": {
        "colab": {
          "base_uri": "https://localhost:8080/"
        },
        "id": "wyeU9_WACvxN",
        "outputId": "58eff23c-01b3-4fbe-e5f4-d3b1ec481569"
      },
      "execution_count": null,
      "outputs": [
        {
          "output_type": "execute_result",
          "data": {
            "text/plain": [
              "{0: 'NEGATIVE', 1: 'POSITIVE'}"
            ]
          },
          "metadata": {},
          "execution_count": 9
        }
      ]
    },
    {
      "cell_type": "markdown",
      "source": [
        "###Exercício para CASA: Implementar o NER(ou outra tarefa de NLP) sem utilizar a função pipeline"
      ],
      "metadata": {
        "id": "keQUJhRVDAIj"
      }
    },
    {
      "cell_type": "code",
      "source": [
        ""
      ],
      "metadata": {
        "id": "WswXUohOC_eP"
      },
      "execution_count": null,
      "outputs": []
    }
  ]
}